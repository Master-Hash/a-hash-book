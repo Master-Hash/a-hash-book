{
 "cells": [
  {
   "cell_type": "markdown",
   "source": [
    "# 样式优化"
   ],
   "metadata": {}
  },
  {
   "cell_type": "markdown",
   "source": [
    "我认为测试不应该是测试各种 syntax 样式是否正常工作[^1]，这种事情应该交给 [cheat sheet](https://jupyterbook.org/reference/cheatsheet.html) 做。（除非自己对编译器（这里是 sphinx）做了太多手脚）\n",
    "\n",
    "真正的测试是，明确自己写作需要哪些独特的样式，然后加以优化。\n",
    "\n",
    "[^1]: 例如 [Phuker 的博客](https://phuker.github.io/pages/test-markdown.html)"
   ],
   "metadata": {}
  },
  {
   "cell_type": "markdown",
   "source": [
    "## 代码块\n",
    "暂时只支持 bash 和 python，其它语言很笨拙。"
   ],
   "metadata": {}
  },
  {
   "cell_type": "markdown",
   "source": [
    "### bash / 其它 shell"
   ],
   "metadata": {}
  },
  {
   "cell_type": "code",
   "execution_count": 1,
   "source": [
    "%%bash\n",
    "for i in {1..10}\n",
    "do\n",
    "    echo \"${i}\" & # & 表示 fork 一个子进程，在后台运行（相当于运行某程序，然后 C-z）\n",
    "done\n",
    "wait\n",
    "echo \"END\"\n",
    "# 输出随机顺序的 1 - 10，然后 END"
   ],
   "outputs": [
    {
     "output_type": "stream",
     "name": "stdout",
     "text": [
      "1\n",
      "3\n",
      "2\n",
      "7\n",
      "5\n",
      "9\n",
      "10\n",
      "4\n",
      "6\n",
      "8\n",
      "END\n"
     ]
    }
   ],
   "metadata": {}
  },
  {
   "cell_type": "markdown",
   "source": [
    "```{margin}\n",
    "此处 `%%bash` 即使可以理解，但不是文档通用的办法。\n",
    "更好的是专门的 File 块。\n",
    "\n",
    "另一个方案是使用 shell kernel。\n",
    "```"
   ],
   "metadata": {}
  },
  {
   "cell_type": "markdown",
   "source": [
    "以上 Cell magic 无论是 `%%bash` 还是 `%%sh`，调用的 shell 都是默认 shell（本地是 `/bin/bash`）\n",
    "\n",
    "但目前不能证明后者是否会调用 POSIX 模式下的 bash。<!-- TODO -->"
   ],
   "metadata": {}
  },
  {
   "cell_type": "markdown",
   "source": [
    "### python\n",
    "python 不仅可以运行，还可以在线交互运行。这也是 jupyter book 生成器最大的卖点之一。"
   ],
   "metadata": {}
  },
  {
   "cell_type": "code",
   "execution_count": 2,
   "source": [
    "import __hello__"
   ],
   "outputs": [
    {
     "output_type": "stream",
     "name": "stdout",
     "text": [
      "Hello world!\n"
     ]
    }
   ],
   "metadata": {}
  }
 ],
 "metadata": {
  "orig_nbformat": 4,
  "language_info": {
   "name": "python",
   "version": "3.9.4",
   "mimetype": "text/x-python",
   "codemirror_mode": {
    "name": "ipython",
    "version": 3
   },
   "pygments_lexer": "ipython3",
   "nbconvert_exporter": "python",
   "file_extension": ".py"
  },
  "kernelspec": {
   "name": "python3",
   "display_name": "Python 3.9.4 64-bit ('.venv': venv)"
  },
  "interpreter": {
   "hash": "25024b85b20ff40ad06971b5d5835c2aaa06b484667be12d9162ba286cf100ab"
  }
 },
 "nbformat": 4,
 "nbformat_minor": 2
}